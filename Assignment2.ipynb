{
  "nbformat": 4,
  "nbformat_minor": 0,
  "metadata": {
    "colab": {
      "name": "Assignment2.ipynb",
      "provenance": [],
      "include_colab_link": true
    },
    "kernelspec": {
      "name": "python3",
      "display_name": "Python 3"
    }
  },
  "cells": [
    {
      "cell_type": "markdown",
      "metadata": {
        "id": "view-in-github",
        "colab_type": "text"
      },
      "source": [
        "<a href=\"https://colab.research.google.com/github/alfranc/Rumor_RvNN/blob/master/Assignment2.ipynb\" target=\"_parent\"><img src=\"https://colab.research.google.com/assets/colab-badge.svg\" alt=\"Open In Colab\"/></a>"
      ]
    },
    {
      "cell_type": "code",
      "metadata": {
        "id": "DGA8uC_Vtv8h",
        "colab_type": "code",
        "outputId": "12610c26-f2c2-4445-af52-a92b879f867a",
        "colab": {
          "base_uri": "https://localhost:8080/",
          "height": 122
        }
      },
      "source": [
        "from google.colab import drive\n",
        "drive.mount('/content/gdrive')"
      ],
      "execution_count": 3,
      "outputs": [
        {
          "output_type": "stream",
          "text": [
            "Go to this URL in a browser: https://accounts.google.com/o/oauth2/auth?client_id=947318989803-6bn6qk8qdgf4n4g3pfee6491hc0brc4i.apps.googleusercontent.com&redirect_uri=urn%3Aietf%3Awg%3Aoauth%3A2.0%3Aoob&scope=email%20https%3A%2F%2Fwww.googleapis.com%2Fauth%2Fdocs.test%20https%3A%2F%2Fwww.googleapis.com%2Fauth%2Fdrive%20https%3A%2F%2Fwww.googleapis.com%2Fauth%2Fdrive.photos.readonly%20https%3A%2F%2Fwww.googleapis.com%2Fauth%2Fpeopleapi.readonly&response_type=code\n",
            "\n",
            "Enter your authorization code:\n",
            "··········\n",
            "Mounted at /content/gdrive\n"
          ],
          "name": "stdout"
        }
      ]
    },
    {
      "cell_type": "code",
      "metadata": {
        "id": "BKCKeWcauGlg",
        "colab_type": "code",
        "outputId": "73c689a1-8f46-4119-cc2c-a27805a53388",
        "colab": {
          "base_uri": "https://localhost:8080/",
          "height": 34
        }
      },
      "source": [
        "cd gdrive/'My Drive'"
      ],
      "execution_count": 4,
      "outputs": [
        {
          "output_type": "stream",
          "text": [
            "/content/gdrive/My Drive\n"
          ],
          "name": "stdout"
        }
      ]
    },
    {
      "cell_type": "code",
      "metadata": {
        "id": "D3oCJcQKuHZX",
        "colab_type": "code",
        "outputId": "01e38a5b-12e8-401a-fc10-6584de0346d1",
        "colab": {
          "base_uri": "https://localhost:8080/",
          "height": 34
        }
      },
      "source": [
        "cd COMP777"
      ],
      "execution_count": 5,
      "outputs": [
        {
          "output_type": "stream",
          "text": [
            "/content/gdrive/My Drive/COMP777\n"
          ],
          "name": "stdout"
        }
      ]
    },
    {
      "cell_type": "code",
      "metadata": {
        "id": "Y1zpYllwuK7j",
        "colab_type": "code",
        "outputId": "f6a1f004-025c-4ebc-d82d-6e01afd854d8",
        "colab": {
          "base_uri": "https://localhost:8080/",
          "height": 34
        }
      },
      "source": [
        "cd Assign2"
      ],
      "execution_count": 6,
      "outputs": [
        {
          "output_type": "stream",
          "text": [
            "/content/gdrive/My Drive/COMP777/Assign2\n"
          ],
          "name": "stdout"
        }
      ]
    },
    {
      "cell_type": "code",
      "metadata": {
        "id": "zl1L2MFVuQSv",
        "colab_type": "code",
        "colab": {}
      },
      "source": [
        "import tweepy\n",
        "from tweepy import OAuthHandler\n",
        " \n",
        "## FILL IN YOUR OWN DETAILS HERE ##\n",
        "consumer_key = '2ivELbzpCdNN8EtwmLzFYE8k9'  \n",
        "consumer_secret = 'mwb6oI21Vv5sJT0ubn9CtzEVlfyrjHRBucgegXoqQC126F5KNz'\n",
        "access_token = '1164667078420205568-pUOEAvZmAhH990j5kgIQj15gcIs9n8'\n",
        "access_secret = 'c8WGbWuBo2EB4YF0wCVRKkESszcTzuv65GifkxUeVLMCh'\n",
        "##\n",
        " \n",
        "auth = OAuthHandler(consumer_key, consumer_secret)\n",
        "auth.set_access_token(access_token, access_secret)\n",
        "api = tweepy.API(auth)\n",
        "\n",
        "user1 = api.get_user('barackobama')\n",
        "user2 = api.get_user('lewishamilton')\n",
        "print (user2.screen_name)\n",
        "print (user2.name)\n",
        "print(user1.screen_name)\n",
        "print (user1.name)\n"
      ],
      "execution_count": 0,
      "outputs": []
    },
    {
      "cell_type": "code",
      "metadata": {
        "id": "GiI6-LEIuo5R",
        "colab_type": "code",
        "colab": {}
      },
      "source": [
        "tweets1 = api.user_timeline(screen_name = 'lewishamilton', count = 5,tweet_mode='extended')\n",
        "for t in tweets1:\n",
        "  print(t.full_text)\n",
        "tweets2 = api.user_timeline(screen_name = ' barackobama', count = 5,tweet_mode='extended')\n",
        "for t in tweets2:\n",
        "  print(t.full_text)"
      ],
      "execution_count": 0,
      "outputs": []
    },
    {
      "cell_type": "code",
      "metadata": {
        "id": "HY-PP8GKuvta",
        "colab_type": "code",
        "colab": {}
      },
      "source": [
        "import json\n",
        "TWEETFILE1 = 'barack_obama.json'\n",
        "TWEETFILE2 = 'lewis_hamilton.json'\n",
        "\n",
        "tweets1 = api.user_timeline(screen_name = 'barackobama', count = 200,tweet_mode='extended')\n",
        "tweets2 = api.user_timeline(screen_name = 'lewishamilton', count = 200,tweet_mode='extended')\n",
        "\n",
        "with open(TWEETFILE1, 'w') as outfile:\n",
        "    for tweet in tweets1:\n",
        "        json.dump(tweet._json, outfile, sort_keys=True)\n",
        "        outfile.write('\\n')\n",
        "        print(tweet.full_text)\n",
        "with open(TWEETFILE2, 'w') as outfile:\n",
        "    for tweet in tweets2:\n",
        "        json.dump(tweet._json, outfile, sort_keys=True)\n",
        "        outfile.write('\\n')\n",
        "        print(tweet.full_text)\n"
      ],
      "execution_count": 0,
      "outputs": []
    },
    {
      "cell_type": "code",
      "metadata": {
        "id": "kLqLque2u0Lj",
        "colab_type": "code",
        "colab": {}
      },
      "source": [
        "import pandas as pd\n",
        "\n",
        "tweets1 = api.user_timeline(screen_name = 'barackobama', count = 200,tweet_mode='extended')\n",
        "tweets2 = api.user_timeline(screen_name = 'lewishamilton', count = 200,tweet_mode='extended')\n",
        "tweet_data1 = [[tweet.user.screen_name, tweet.created_at,tweet.entities,tweet.full_text] for tweet in tweets1]\n",
        "tweet_data2 = [[tweet.user.screen_name, tweet.created_at,tweet.entities,tweet.full_text] for tweet in tweets2]\n",
        "data1 = pd.DataFrame(data=tweet_data1, columns=['user', \"creation time\",\"entities\",\"full_text\"])\n",
        "data2 = pd.DataFrame(data=tweet_data2, columns=['user', \"creation time\",\"entities\",\"full_text\"])"
      ],
      "execution_count": 0,
      "outputs": []
    },
    {
      "cell_type": "code",
      "metadata": {
        "id": "Xxzn8EzMvdMn",
        "colab_type": "code",
        "colab": {}
      },
      "source": [
        "display(data1)\n",
        "display(data2)"
      ],
      "execution_count": 0,
      "outputs": []
    },
    {
      "cell_type": "code",
      "metadata": {
        "id": "EjWMRawhzsfB",
        "colab_type": "code",
        "colab": {}
      },
      "source": [
        "df_row_reindex = pd.concat([data1, data2], ignore_index=True)\n",
        "display(df_row_reindex)"
      ],
      "execution_count": 0,
      "outputs": []
    },
    {
      "cell_type": "code",
      "metadata": {
        "id": "LJJGDH4o656D",
        "colab_type": "code",
        "colab": {}
      },
      "source": [
        "df_row_reindex['hour_of_posting'] = df_row_reindex['creation time'].dt.hour\n",
        "print(df_row_reindex)"
      ],
      "execution_count": 0,
      "outputs": []
    },
    {
      "cell_type": "code",
      "metadata": {
        "colab_type": "code",
        "id": "J5Kz0EM8AV47",
        "colab": {}
      },
      "source": [
        "import matplotlib.pyplot as plt\n",
        "df_posting_time_percent = pd.crosstab(df_row_reindex.user,df_row_reindex.hour_of_posting,\n",
        "                         normalize = 'index').rename_axis(None)"
      ],
      "execution_count": 0,
      "outputs": []
    },
    {
      "cell_type": "code",
      "metadata": {
        "id": "65UEO3xCAv7l",
        "colab_type": "code",
        "outputId": "0b89b81b-8237-4f8c-b5ef-9163a94945ff",
        "colab": {
          "base_uri": "https://localhost:8080/",
          "height": 111
        }
      },
      "source": [
        "df_posting_time_percent*=100\n",
        "display(df_posting_time_percent)\n",
        "\n"
      ],
      "execution_count": 15,
      "outputs": [
        {
          "output_type": "display_data",
          "data": {
            "text/html": [
              "<div>\n",
              "<style scoped>\n",
              "    .dataframe tbody tr th:only-of-type {\n",
              "        vertical-align: middle;\n",
              "    }\n",
              "\n",
              "    .dataframe tbody tr th {\n",
              "        vertical-align: top;\n",
              "    }\n",
              "\n",
              "    .dataframe thead th {\n",
              "        text-align: right;\n",
              "    }\n",
              "</style>\n",
              "<table border=\"1\" class=\"dataframe\">\n",
              "  <thead>\n",
              "    <tr style=\"text-align: right;\">\n",
              "      <th>hour_of_posting</th>\n",
              "      <th>0</th>\n",
              "      <th>1</th>\n",
              "      <th>2</th>\n",
              "      <th>3</th>\n",
              "      <th>4</th>\n",
              "      <th>5</th>\n",
              "      <th>6</th>\n",
              "      <th>7</th>\n",
              "      <th>8</th>\n",
              "      <th>9</th>\n",
              "      <th>10</th>\n",
              "      <th>11</th>\n",
              "      <th>12</th>\n",
              "      <th>13</th>\n",
              "      <th>14</th>\n",
              "      <th>15</th>\n",
              "      <th>16</th>\n",
              "      <th>17</th>\n",
              "      <th>18</th>\n",
              "      <th>19</th>\n",
              "      <th>20</th>\n",
              "      <th>21</th>\n",
              "      <th>22</th>\n",
              "      <th>23</th>\n",
              "    </tr>\n",
              "  </thead>\n",
              "  <tbody>\n",
              "    <tr>\n",
              "      <th>BarackObama</th>\n",
              "      <td>2.0</td>\n",
              "      <td>2.5</td>\n",
              "      <td>0.0</td>\n",
              "      <td>1.5</td>\n",
              "      <td>2.5</td>\n",
              "      <td>0.5</td>\n",
              "      <td>0.0</td>\n",
              "      <td>0.0</td>\n",
              "      <td>0.0</td>\n",
              "      <td>0.0</td>\n",
              "      <td>0.0</td>\n",
              "      <td>0.5</td>\n",
              "      <td>1.0</td>\n",
              "      <td>7.5</td>\n",
              "      <td>9.0</td>\n",
              "      <td>9.0</td>\n",
              "      <td>17.5</td>\n",
              "      <td>5.5</td>\n",
              "      <td>12.5</td>\n",
              "      <td>10.5</td>\n",
              "      <td>8.0</td>\n",
              "      <td>6.5</td>\n",
              "      <td>2.0</td>\n",
              "      <td>1.5</td>\n",
              "    </tr>\n",
              "    <tr>\n",
              "      <th>LewisHamilton</th>\n",
              "      <td>0.0</td>\n",
              "      <td>0.0</td>\n",
              "      <td>0.5</td>\n",
              "      <td>0.0</td>\n",
              "      <td>0.0</td>\n",
              "      <td>0.0</td>\n",
              "      <td>0.5</td>\n",
              "      <td>0.5</td>\n",
              "      <td>3.5</td>\n",
              "      <td>2.5</td>\n",
              "      <td>5.0</td>\n",
              "      <td>8.0</td>\n",
              "      <td>6.5</td>\n",
              "      <td>9.5</td>\n",
              "      <td>5.5</td>\n",
              "      <td>6.5</td>\n",
              "      <td>12.5</td>\n",
              "      <td>10.0</td>\n",
              "      <td>12.5</td>\n",
              "      <td>5.5</td>\n",
              "      <td>7.0</td>\n",
              "      <td>3.0</td>\n",
              "      <td>0.5</td>\n",
              "      <td>0.5</td>\n",
              "    </tr>\n",
              "  </tbody>\n",
              "</table>\n",
              "</div>"
            ],
            "text/plain": [
              "hour_of_posting   0    1    2    3    4    5   ...    18    19   20   21   22   23\n",
              "BarackObama      2.0  2.5  0.0  1.5  2.5  0.5  ...  12.5  10.5  8.0  6.5  2.0  1.5\n",
              "LewisHamilton    0.0  0.0  0.5  0.0  0.0  0.0  ...  12.5   5.5  7.0  3.0  0.5  0.5\n",
              "\n",
              "[2 rows x 24 columns]"
            ]
          },
          "metadata": {
            "tags": []
          }
        }
      ]
    },
    {
      "cell_type": "code",
      "metadata": {
        "colab_type": "code",
        "id": "oe8YNZ5vdrdl",
        "colab": {
          "base_uri": "https://localhost:8080/",
          "height": 296
        },
        "outputId": "8126118a-5260-49bc-84e5-d00ebda3efde"
      },
      "source": [
        "import numpy as np\n",
        "import matplotlib.pyplot as plt\n",
        "\n",
        "plt=pd.crosstab(df_row_reindex.hour_of_posting,df_row_reindex.user,normalize = 'columns').plot(kind='line',title=\"% of Tweets by the hour of posting per user\")\n",
        "\n",
        "\n",
        "\n",
        "\n",
        "\n"
      ],
      "execution_count": 16,
      "outputs": [
        {
          "output_type": "display_data",
          "data": {
            "image/png": "[encoded data removed]",
            "text/plain": [
              "<Figure size 432x288 with 1 Axes>"
            ]
          },
          "metadata": {
            "tags": []
          }
        }
      ]
    },
    {
      "cell_type": "code",
      "metadata": {
        "id": "-lZTSidK1Zb0",
        "colab_type": "code",
        "colab": {}
      },
      "source": [
        "data4 = pd.read_json(\"barack_obama.json\", orient = 'records', lines = True)\n",
        "data4['user'] =\"BarackObama\"\n",
        "data5 = pd.read_json(\"lewis_hamilton.json\", orient = 'records', lines = True)\n",
        "data5['user'] =\"LewisHamilton\""
      ],
      "execution_count": 0,
      "outputs": []
    },
    {
      "cell_type": "code",
      "metadata": {
        "id": "cLfCvqUe1luF",
        "colab_type": "code",
        "colab": {}
      },
      "source": [
        "display(data4)\n",
        "display(data5)"
      ],
      "execution_count": 0,
      "outputs": []
    },
    {
      "cell_type": "code",
      "metadata": {
        "id": "urfsdnjn2i6Q",
        "colab_type": "code",
        "colab": {}
      },
      "source": [
        "df_combined= pd.concat([data4, data5], ignore_index=True)\n",
        "display(df_combined)"
      ],
      "execution_count": 0,
      "outputs": []
    },
    {
      "cell_type": "code",
      "metadata": {
        "id": "jzynXE338Kwr",
        "colab_type": "code",
        "colab": {}
      },
      "source": [
        "df_combined.to_csv('combined_tweets.csv')"
      ],
      "execution_count": 0,
      "outputs": []
    },
    {
      "cell_type": "code",
      "metadata": {
        "id": "sfF-mR0F-GqC",
        "colab_type": "code",
        "colab": {}
      },
      "source": [
        "print (df_combined.extended_entities.values)"
      ],
      "execution_count": 0,
      "outputs": []
    },
    {
      "cell_type": "code",
      "metadata": {
        "id": "7r51JPZVEAtB",
        "colab_type": "code",
        "colab": {}
      },
      "source": [
        "print (df_combined.entities.values)"
      ],
      "execution_count": 0,
      "outputs": []
    },
    {
      "cell_type": "code",
      "metadata": {
        "id": "3r9iHlnWHyqO",
        "colab_type": "code",
        "colab": {}
      },
      "source": [
        "display(df_combined.full_text.values)"
      ],
      "execution_count": 0,
      "outputs": []
    },
    {
      "cell_type": "code",
      "metadata": {
        "id": "rAQsaUelXENT",
        "colab_type": "code",
        "colab": {}
      },
      "source": [
        "\n",
        "df_combined['Hashtag']=df_combined.entities.count()"
      ],
      "execution_count": 0,
      "outputs": []
    },
    {
      "cell_type": "code",
      "metadata": {
        "id": "bE6VXJW_dXuL",
        "colab_type": "code",
        "colab": {}
      },
      "source": [
        "display(df_combined)"
      ],
      "execution_count": 0,
      "outputs": []
    },
    {
      "cell_type": "code",
      "metadata": {
        "id": "d_qObYnxdjHC",
        "colab_type": "code",
        "colab": {}
      },
      "source": [
        "df_combined.drop(columns=['Hashtag'])"
      ],
      "execution_count": 0,
      "outputs": []
    },
    {
      "cell_type": "code",
      "metadata": {
        "id": "o6o2cGZj1hIO",
        "colab_type": "code",
        "colab": {}
      },
      "source": [
        "def is_Barack_user(user):\n",
        "    if 'BarackObama' in user:\n",
        "        return \"Yes\"\n",
        "    elif 'LewisHamilton' in user:\n",
        "        return \"No\"\n",
        "    else:\n",
        "        return \"Undetermined\"\n",
        "        \n",
        "df_combined['IsBarackObama'] = df_combined.apply(lambda x: is_Barack_user(x['user']),axis=1)"
      ],
      "execution_count": 0,
      "outputs": []
    },
    {
      "cell_type": "code",
      "metadata": {
        "id": "4ATf4nqQETik",
        "colab_type": "code",
        "colab": {}
      },
      "source": [
        "display(df_combined)"
      ],
      "execution_count": 0,
      "outputs": []
    },
    {
      "cell_type": "code",
      "metadata": {
        "id": "57oc1FdvRAdg",
        "colab_type": "code",
        "colab": {
          "base_uri": "https://localhost:8080/",
          "height": 697
        },
        "outputId": "2b0b09b4-8455-482d-e752-e81ecc365354"
      },
      "source": [
        "df_combined.info()"
      ],
      "execution_count": 129,
      "outputs": [
        {
          "output_type": "stream",
          "text": [
            "<class 'pandas.core.frame.DataFrame'>\n",
            "RangeIndex: 400 entries, 0 to 399\n",
            "Data columns (total 35 columns):\n",
            "contributors                 0 non-null float64\n",
            "coordinates                  0 non-null float64\n",
            "created_at                   400 non-null datetime64[ns]\n",
            "display_text_range           400 non-null object\n",
            "entities                     400 non-null object\n",
            "extended_entities            240 non-null object\n",
            "favorite_count               400 non-null int64\n",
            "favorited                    400 non-null bool\n",
            "full_text                    400 non-null object\n",
            "geo                          0 non-null float64\n",
            "id                           400 non-null int64\n",
            "id_str                       400 non-null int64\n",
            "in_reply_to_screen_name      32 non-null object\n",
            "in_reply_to_status_id        32 non-null float64\n",
            "in_reply_to_status_id_str    32 non-null float64\n",
            "in_reply_to_user_id          32 non-null float64\n",
            "in_reply_to_user_id_str      32 non-null float64\n",
            "is_quote_status              400 non-null bool\n",
            "lang                         400 non-null object\n",
            "place                        0 non-null float64\n",
            "possibly_sensitive           317 non-null float64\n",
            "quoted_status                33 non-null object\n",
            "quoted_status_id             35 non-null float64\n",
            "quoted_status_id_str         35 non-null float64\n",
            "quoted_status_permalink      35 non-null object\n",
            "retweet_count                400 non-null int64\n",
            "retweeted                    400 non-null bool\n",
            "retweeted_status             38 non-null object\n",
            "source                       400 non-null object\n",
            "truncated                    400 non-null bool\n",
            "user                         400 non-null object\n",
            "NewColumn                    0 non-null float64\n",
            "IsBarackObama                400 non-null object\n",
            "MediaIncluded                400 non-null int64\n",
            "Hashtags                     400 non-null int64\n",
            "dtypes: bool(4), datetime64[ns](1), float64(12), int64(6), object(12)\n",
            "memory usage: 98.5+ KB\n"
          ],
          "name": "stdout"
        }
      ]
    },
    {
      "cell_type": "code",
      "metadata": {
        "id": "iv-PaO6ocDPz",
        "colab_type": "code",
        "colab": {}
      },
      "source": [
        "\n",
        "df_combined['MediaIncluded']=df_combined['entities'].str.contains('media',regex=False).apply(lambda x: 1 if x == True else 0)\n"
      ],
      "execution_count": 0,
      "outputs": []
    },
    {
      "cell_type": "code",
      "metadata": {
        "id": "tcTLZotzfhpB",
        "colab_type": "code",
        "colab": {}
      },
      "source": [
        "display(df_combined)"
      ],
      "execution_count": 0,
      "outputs": []
    },
    {
      "cell_type": "code",
      "metadata": {
        "id": "9KoDOpZWhULl",
        "colab_type": "code",
        "colab": {
          "base_uri": "https://localhost:8080/",
          "height": 358
        },
        "outputId": "3d6b5caa-fcde-4b05-dcea-15e2a5e74295"
      },
      "source": [
        "plt=pd.crosstab(df_combined.user,df_combined.MediaIncluded,normalize='columns').plot(kind='bar',title=\"Proportion of Tweets with Pic or Links\")\n"
      ],
      "execution_count": 101,
      "outputs": [
        {
          "output_type": "display_data",
          "data": {
            "image/png": "[encoded data removed]",
            "text/plain": [
              "<Figure size 432x288 with 1 Axes>"
            ]
          },
          "metadata": {
            "tags": []
          }
        }
      ]
    },
    {
      "cell_type": "code",
      "metadata": {
        "id": "MitIXVhKq5dl",
        "colab_type": "code",
        "colab": {
          "base_uri": "https://localhost:8080/",
          "height": 358
        },
        "outputId": "275a7322-f671-4aa5-c036-a769e4d2c35f"
      },
      "source": [
        "plt=pd.crosstab(df_combined.user,df_combined.MediaIncluded).plot(kind='bar',title=\"number of tweets with pics or links\")"
      ],
      "execution_count": 102,
      "outputs": [
        {
          "output_type": "display_data",
          "data": {
            "image/png": "[encoded data removed]",
            "text/plain": [
              "<Figure size 432x288 with 1 Axes>"
            ]
          },
          "metadata": {
            "tags": []
          }
        }
      ]
    },
    {
      "cell_type": "code",
      "metadata": {
        "id": "YBVNvEUptD97",
        "colab_type": "code",
        "colab": {}
      },
      "source": [
        "df_combined['Hashtags']=df_combined['full_text'].str.count('#')"
      ],
      "execution_count": 0,
      "outputs": []
    },
    {
      "cell_type": "code",
      "metadata": {
        "id": "pDX2mrL4tWnG",
        "colab_type": "code",
        "colab": {}
      },
      "source": [
        "display(df_combined)"
      ],
      "execution_count": 0,
      "outputs": []
    },
    {
      "cell_type": "code",
      "metadata": {
        "id": "r5yD87ectoOx",
        "colab_type": "code",
        "colab": {
          "base_uri": "https://localhost:8080/",
          "height": 269
        },
        "outputId": "f0d2235a-c237-476a-d9ef-93d54465abfc"
      },
      "source": [
        "plt=pd.crosstab(df_combined.Hashtags,df_combined.user).plot(kind='hist')"
      ],
      "execution_count": 114,
      "outputs": [
        {
          "output_type": "display_data",
          "data": {
            "image/png": "[encoded data removed]",
            "text/plain": [
              "<Figure size 432x288 with 1 Axes>"
            ]
          },
          "metadata": {
            "tags": []
          }
        }
      ]
    },
    {
      "cell_type": "code",
      "metadata": {
        "id": "2VDijTiYwsHh",
        "colab_type": "code",
        "colab": {
          "base_uri": "https://localhost:8080/",
          "height": 315
        },
        "outputId": "0a771da8-e113-4293-b111-2425ba05e772"
      },
      "source": [
        "df_combined.hist(column='Hashtags')\n"
      ],
      "execution_count": 119,
      "outputs": [
        {
          "output_type": "execute_result",
          "data": {
            "text/plain": [
              "array([[<matplotlib.axes._subplots.AxesSubplot object at 0x7f2245ccc588>]],\n",
              "      dtype=object)"
            ]
          },
          "metadata": {
            "tags": []
          },
          "execution_count": 119
        },
        {
          "output_type": "display_data",
          "data": {
            "image/png": "[encoded data removed]",
            "text/plain": [
              "<Figure size 432x288 with 1 Axes>"
            ]
          },
          "metadata": {
            "tags": []
          }
        }
      ]
    },
    {
      "cell_type": "code",
      "metadata": {
        "id": "v8GznkJkxyms",
        "colab_type": "code",
        "colab": {}
      },
      "source": [
        "filtered_df_combined_BarackObama = df_combined.loc[df_combined['user'] == 'BarackObama']"
      ],
      "execution_count": 0,
      "outputs": []
    },
    {
      "cell_type": "code",
      "metadata": {
        "id": "KmIJmoQjyTh6",
        "colab_type": "code",
        "colab": {
          "base_uri": "https://localhost:8080/",
          "height": 315
        },
        "outputId": "91f2412b-9442-4421-8cea-59fd6cd739cd"
      },
      "source": [
        "\n",
        "filtered_df_combined_BarackObama.hist(column='Hashtags')\n"
      ],
      "execution_count": 137,
      "outputs": [
        {
          "output_type": "execute_result",
          "data": {
            "text/plain": [
              "array([[<matplotlib.axes._subplots.AxesSubplot object at 0x7f2245d2a0b8>]],\n",
              "      dtype=object)"
            ]
          },
          "metadata": {
            "tags": []
          },
          "execution_count": 137
        },
        {
          "output_type": "display_data",
          "data": {
            "image/png": "[encoded data removed]",
            "text/plain": [
              "<Figure size 432x288 with 1 Axes>"
            ]
          },
          "metadata": {
            "tags": []
          }
        }
      ]
    },
    {
      "cell_type": "code",
      "metadata": {
        "id": "DFNFP28Jyjy0",
        "colab_type": "code",
        "colab": {}
      },
      "source": [
        "filtered_df_combined_LewisHamilton = df_combined.loc[df_combined['user'] == 'LewisHamilton']"
      ],
      "execution_count": 0,
      "outputs": []
    },
    {
      "cell_type": "code",
      "metadata": {
        "id": "yyhM5kF2ypPi",
        "colab_type": "code",
        "colab": {
          "base_uri": "https://localhost:8080/",
          "height": 315
        },
        "outputId": "30ab2139-588f-4028-d14c-0379e2ce7a54"
      },
      "source": [
        "filtered_df_combined_LewisHamilton.hist(column='Hashtags')"
      ],
      "execution_count": 127,
      "outputs": [
        {
          "output_type": "execute_result",
          "data": {
            "text/plain": [
              "array([[<matplotlib.axes._subplots.AxesSubplot object at 0x7f2247f8fd30>]],\n",
              "      dtype=object)"
            ]
          },
          "metadata": {
            "tags": []
          },
          "execution_count": 127
        },
        {
          "output_type": "display_data",
          "data": {
            "image/png": "[encoded data removed]",
            "text/plain": [
              "<Figure size 432x288 with 1 Axes>"
            ]
          },
          "metadata": {
            "tags": []
          }
        }
      ]
    },
    {
      "cell_type": "code",
      "metadata": {
        "id": "ilxZmb86y56z",
        "colab_type": "code",
        "colab": {}
      },
      "source": [
        "display(df_combined)"
      ],
      "execution_count": 0,
      "outputs": []
    },
    {
      "cell_type": "markdown",
      "metadata": {
        "id": "Fp3_l6lc7SR3",
        "colab_type": "text"
      },
      "source": [
        "adapted from https://www.earthdatascience.org/courses/earth-analytics-python/using-apis-natural-language-processing-twitter/calculate-tweet-word-frequencies-in-python/"
      ]
    },
    {
      "cell_type": "code",
      "metadata": {
        "id": "PxIZZEt27U7C",
        "colab_type": "code",
        "colab": {}
      },
      "source": [
        "import os\n",
        "import pandas as pd\n",
        "import matplotlib.pyplot as plt\n",
        "import seaborn as sns\n",
        "import itertools\n",
        "import collections\n",
        "\n",
        "import tweepy as tw\n",
        "import nltk\n",
        "from nltk.corpus import stopwords\n",
        "import re\n",
        "import networkx\n",
        "\n",
        "import warnings\n",
        "warnings.filterwarnings(\"ignore\")"
      ],
      "execution_count": 0,
      "outputs": []
    },
    {
      "cell_type": "code",
      "metadata": {
        "id": "-ynSszho8gfI",
        "colab_type": "code",
        "colab": {}
      },
      "source": [
        "def remove_url(txt):\n",
        "    return \" \".join(re.sub(\"([^0-9A-Za-z \\t])|(\\w+:\\/\\/\\S+)\", \"\", txt).split())\n",
        "\n",
        "filtered_df_combined_BarackObama['TweetNoURLs']=filtered_df_combined_BarackObama['full_text'].apply(lambda x: remove_url(x))"
      ],
      "execution_count": 0,
      "outputs": []
    },
    {
      "cell_type": "code",
      "metadata": {
        "id": "2r0oav-RCCB5",
        "colab_type": "code",
        "colab": {}
      },
      "source": [
        "print(filtered_df_combined_BarackObama.TweetNoURLs.values)"
      ],
      "execution_count": 0,
      "outputs": []
    },
    {
      "cell_type": "code",
      "metadata": {
        "id": "mpKzp7_vEqL7",
        "colab_type": "code",
        "colab": {
          "base_uri": "https://localhost:8080/",
          "height": 283
        },
        "outputId": "2e577fed-776e-4b4e-ba01-d48dfee06377"
      },
      "source": [
        "filtered_df_combined_BarackObama['lowercaseTweetNoURLs']=filtered_df_combined_BarackObama['TweetNoURLs'].lower().split()"
      ],
      "execution_count": 153,
      "outputs": [
        {
          "output_type": "error",
          "ename": "AttributeError",
          "evalue": "ignored",
          "traceback": [
            "\u001b[0;31m---------------------------------------------------------------------------\u001b[0m",
            "\u001b[0;31mAttributeError\u001b[0m                            Traceback (most recent call last)",
            "\u001b[0;32m<ipython-input-153-3ae05e69f12d>\u001b[0m in \u001b[0;36m<module>\u001b[0;34m()\u001b[0m\n\u001b[0;32m----> 1\u001b[0;31m \u001b[0mfiltered_df_combined_BarackObama\u001b[0m\u001b[0;34m[\u001b[0m\u001b[0;34m'lowercaseTweetNoURLs'\u001b[0m\u001b[0;34m]\u001b[0m\u001b[0;34m=\u001b[0m\u001b[0mfiltered_df_combined_BarackObama\u001b[0m\u001b[0;34m[\u001b[0m\u001b[0;34m'TweetNoURLs'\u001b[0m\u001b[0;34m]\u001b[0m\u001b[0;34m.\u001b[0m\u001b[0mlower\u001b[0m\u001b[0;34m(\u001b[0m\u001b[0;34m)\u001b[0m\u001b[0;34m.\u001b[0m\u001b[0msplit\u001b[0m\u001b[0;34m(\u001b[0m\u001b[0;34m)\u001b[0m\u001b[0;34m\u001b[0m\u001b[0;34m\u001b[0m\u001b[0m\n\u001b[0m",
            "\u001b[0;32m/usr/local/lib/python3.6/dist-packages/pandas/core/generic.py\u001b[0m in \u001b[0;36m__getattr__\u001b[0;34m(self, name)\u001b[0m\n\u001b[1;32m   5065\u001b[0m             \u001b[0;32mif\u001b[0m \u001b[0mself\u001b[0m\u001b[0;34m.\u001b[0m\u001b[0m_info_axis\u001b[0m\u001b[0;34m.\u001b[0m\u001b[0m_can_hold_identifiers_and_holds_name\u001b[0m\u001b[0;34m(\u001b[0m\u001b[0mname\u001b[0m\u001b[0;34m)\u001b[0m\u001b[0;34m:\u001b[0m\u001b[0;34m\u001b[0m\u001b[0;34m\u001b[0m\u001b[0m\n\u001b[1;32m   5066\u001b[0m                 \u001b[0;32mreturn\u001b[0m \u001b[0mself\u001b[0m\u001b[0;34m[\u001b[0m\u001b[0mname\u001b[0m\u001b[0;34m]\u001b[0m\u001b[0;34m\u001b[0m\u001b[0;34m\u001b[0m\u001b[0m\n\u001b[0;32m-> 5067\u001b[0;31m             \u001b[0;32mreturn\u001b[0m \u001b[0mobject\u001b[0m\u001b[0;34m.\u001b[0m\u001b[0m__getattribute__\u001b[0m\u001b[0;34m(\u001b[0m\u001b[0mself\u001b[0m\u001b[0;34m,\u001b[0m \u001b[0mname\u001b[0m\u001b[0;34m)\u001b[0m\u001b[0;34m\u001b[0m\u001b[0;34m\u001b[0m\u001b[0m\n\u001b[0m\u001b[1;32m   5068\u001b[0m \u001b[0;34m\u001b[0m\u001b[0m\n\u001b[1;32m   5069\u001b[0m     \u001b[0;32mdef\u001b[0m \u001b[0m__setattr__\u001b[0m\u001b[0;34m(\u001b[0m\u001b[0mself\u001b[0m\u001b[0;34m,\u001b[0m \u001b[0mname\u001b[0m\u001b[0;34m,\u001b[0m \u001b[0mvalue\u001b[0m\u001b[0;34m)\u001b[0m\u001b[0;34m:\u001b[0m\u001b[0;34m\u001b[0m\u001b[0;34m\u001b[0m\u001b[0m\n",
            "\u001b[0;31mAttributeError\u001b[0m: 'Series' object has no attribute 'lower'"
          ]
        }
      ]
    }
  ]
}